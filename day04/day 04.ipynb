{
 "cells": [
  {
   "cell_type": "markdown",
   "id": "7f7da941-1fa4-4b4f-ab48-c6bfd86948d7",
   "metadata": {},
   "source": [
    "#  1. Power Rule & Charts with Subplots (File 5)"
   ]
  },
  {
   "cell_type": "markdown",
   "id": "7ed5cbb3-e846-4ad1-a947-9c9266a5a990",
   "metadata": {},
   "source": [
    "##  Practice Task:"
   ]
  },
  {
   "cell_type": "markdown",
   "id": "b570c6ce-5f2d-432f-b5b1-3a56fe8e1771",
   "metadata": {},
   "source": [
    "### Derivative find karo:\n",
    " ### $$f(x) = 3x^3 +2x^2 −5x +7$$\n",
    " \n",
    " ### Power rule apply karo."
   ]
  },
  {
   "cell_type": "code",
   "execution_count": 18,
   "id": "a368b731-e879-4cd9-9c25-70934868c78d",
   "metadata": {},
   "outputs": [],
   "source": [
    "import sympy as sp"
   ]
  },
  {
   "cell_type": "code",
   "execution_count": 19,
   "id": "3d0bfbf7-102a-408a-a415-c254eab0cf43",
   "metadata": {},
   "outputs": [],
   "source": [
    "x=sp.Symbol('x')"
   ]
  },
  {
   "cell_type": "code",
   "execution_count": 20,
   "id": "5e2701aa-fa06-4afb-ae38-eb82bc8b71df",
   "metadata": {},
   "outputs": [],
   "source": [
    "f =3*x**3+2*x**2-5*x+7"
   ]
  },
  {
   "cell_type": "code",
   "execution_count": 21,
   "id": "339cffab-3a74-4b3d-bd90-11d3683c3422",
   "metadata": {},
   "outputs": [],
   "source": [
    "f_der=sp.diff(f,x)"
   ]
  },
  {
   "cell_type": "code",
   "execution_count": 22,
   "id": "12ff613a-8280-40ff-968f-5fab79558f07",
   "metadata": {},
   "outputs": [
    {
     "data": {
      "text/latex": [
       "$\\displaystyle 9 x^{2} + 4 x - 5$"
      ],
      "text/plain": [
       "9*x**2 + 4*x - 5"
      ]
     },
     "execution_count": 22,
     "metadata": {},
     "output_type": "execute_result"
    }
   ],
   "source": [
    "f_der"
   ]
  },
  {
   "cell_type": "markdown",
   "id": "c18895a6-d24f-4c29-91fc-3df6851773b0",
   "metadata": {},
   "source": [
    "##  Python mein matplotlib ka use karke f(x) aur uska derivative plot karo — subplot use karo ek hi figure mein."
   ]
  },
  {
   "cell_type": "code",
   "execution_count": 23,
   "id": "78a2c48e-ea4e-46a9-85f5-434e87c9de82",
   "metadata": {},
   "outputs": [],
   "source": [
    "import sympy as sp\n",
    "import numpy as np\n",
    "import matplotlib.pyplot as plt"
   ]
  },
  {
   "cell_type": "code",
   "execution_count": 24,
   "id": "f3d7b76c-55bf-43b4-b76e-ec10214ae8b5",
   "metadata": {},
   "outputs": [],
   "source": [
    "x=sp.Symbol('x')\n",
    "f_expr=3*x**3+2*x**2-5*x+7"
   ]
  },
  {
   "cell_type": "code",
   "execution_count": 25,
   "id": "c2c7bf41-f954-480b-b00d-bf6d531fde50",
   "metadata": {},
   "outputs": [],
   "source": [
    "f_der=sp.diff(f_expr,x)"
   ]
  },
  {
   "cell_type": "code",
   "execution_count": 26,
   "id": "92ead728-224f-4767-8edf-78e6eaab5bdf",
   "metadata": {},
   "outputs": [
    {
     "data": {
      "text/latex": [
       "$\\displaystyle 9 x^{2} + 4 x - 5$"
      ],
      "text/plain": [
       "9*x**2 + 4*x - 5"
      ]
     },
     "execution_count": 26,
     "metadata": {},
     "output_type": "execute_result"
    }
   ],
   "source": [
    "f_der"
   ]
  },
  {
   "cell_type": "code",
   "execution_count": 27,
   "id": "dd5a7d85-57fd-491c-86f4-14b447f181c8",
   "metadata": {},
   "outputs": [],
   "source": [
    "f = sp.lambdify(x, f_expr, 'numpy')\n",
    "f_deri= sp.lambdify(x, f_der, 'numpy')"
   ]
  },
  {
   "cell_type": "code",
   "execution_count": 28,
   "id": "6813a018-761f-4ff3-8054-0f619642027b",
   "metadata": {},
   "outputs": [],
   "source": [
    "x_vals = np.linspace(-10, 10, 1000)"
   ]
  },
  {
   "cell_type": "code",
   "execution_count": 29,
   "id": "618d0f45-70d2-4d39-a546-38f0ec8f2389",
   "metadata": {},
   "outputs": [],
   "source": [
    "y_vals = f(x_vals)\n",
    "y_prime_vals = f_deri(x_vals)"
   ]
  },
  {
   "cell_type": "code",
   "execution_count": 30,
   "id": "be28abcb-582e-4c54-a549-4e2e9b855c1d",
   "metadata": {},
   "outputs": [
    {
     "data": {
      "text/plain": [
       "<Figure size 1200x600 with 0 Axes>"
      ]
     },
     "execution_count": 30,
     "metadata": {},
     "output_type": "execute_result"
    },
    {
     "data": {
      "text/plain": [
       "<Figure size 1200x600 with 0 Axes>"
      ]
     },
     "metadata": {},
     "output_type": "display_data"
    }
   ],
   "source": [
    "plt.figure(figsize=(12, 6))"
   ]
  },
  {
   "cell_type": "code",
   "execution_count": 31,
   "id": "4f3716a8-9ed7-4111-b76a-777cddbe2560",
   "metadata": {},
   "outputs": [
    {
     "data": {
      "image/png": "[encoded data removed]",
      "text/plain": [
       "<Figure size 640x480 with 2 Axes>"
      ]
     },
     "metadata": {},
     "output_type": "display_data"
    }
   ],
   "source": [
    "plt.subplot(2, 2, 1)\n",
    "plt.plot(x_vals, y_vals, label='f(x)', color='blue')\n",
    "plt.title('f(x) = 3x³ + 2x² - 5x + 7')\n",
    "plt.xlabel('x')\n",
    "plt.legend()\n",
    "plt.grid(True)\n",
    "\n",
    "plt.subplot(2, 2, 2)\n",
    "plt.plot(x_vals, y_prime_vals, label=\"f'(x)\", color='green', linestyle='--')\n",
    "plt.title(\"f'(x) = 9x² + 4x - 5\")\n",
    "plt.xlabel('x')\n",
    "plt.legend()\n",
    "plt.grid(True)\n",
    "\n",
    "\n",
    "plt.tight_layout()\n",
    "plt.show()"
   ]
  },
  {
   "cell_type": "markdown",
   "id": "1d36f425-8ea7-4824-8a3e-44c2bd9c55d7",
   "metadata": {},
   "source": [
    "# 2. LaTeX Markdown & NumPy (File 4)"
   ]
  },
  {
   "cell_type": "markdown",
   "id": "5003b414-fb55-4f99-b517-173124d3874d",
   "metadata": {},
   "source": [
    "## Practice Task:"
   ]
  },
  {
   "cell_type": "markdown",
   "id": "760b3e66-650b-4de1-afb1-b702f767273c",
   "metadata": {},
   "source": [
    "### Jupyter Notebook mein ek markdown cell banao jahan aap derivative ka formula explain karo (LaTeX use karke):\n",
    " ### $$\\frac{d}{dx}(x^n)=nx^{n-1}$$"
   ]
  },
  {
   "cell_type": "markdown",
   "id": "fc8ea932-e0a7-4b70-b9fc-663e4ffd9972",
   "metadata": {},
   "source": [
    "## 📘 Derivative Rule — Power Rule\n",
    "\n",
    "Agar function ho:\n",
    "\n",
    "$$\n",
    "f(x) = x^n\n",
    "$$\n",
    "\n",
    "\n",
    "Toh uska derivative hota hai:\n",
    "\n",
    "$$\n",
    "\\frac{d}{dx}(x^n) = n \\cdot x^{n-1}\n",
    "$$\n",
    "\n",
    "Ya simplified form mein:\n",
    "\n",
    "### $$\n",
    "\\left(\\frac{d}{dx}\\right)(x^n) = n \\cdot x^{n-1}\n",
    "$$\n",
    "\n",
    "🔹 **Yeh Power Rule** hai jo hum use karte hain jab kisi function mein sirf powers of \\( x \\) ho.\n",
    "\n",
    "🔸 **Example**:\n",
    "Agar:\n",
    "$$\n",
    "f(x) = x^3\n",
    "$$\n",
    "\n",
    "Toh:\n",
    "$$\n",
    "f'(x) = 3x^2\n",
    "$$\n"
   ]
  },
  {
   "cell_type": "markdown",
   "id": "f59d8fdf-fed1-4289-a986-f38a28890f50",
   "metadata": {},
   "source": [
    "### NumPy ka use karke 100 random numbers generate karo from normal distribution, aur unka mean aur standard deviation calculate karo"
   ]
  },
  {
   "cell_type": "code",
   "execution_count": 32,
   "id": "eb1303fb-7e1f-41b4-b112-6c934c9fd798",
   "metadata": {},
   "outputs": [],
   "source": [
    "import numpy as np"
   ]
  },
  {
   "cell_type": "code",
   "execution_count": 33,
   "id": "44f00e8c-ffa4-4621-afe7-88f2e2c0e90a",
   "metadata": {},
   "outputs": [],
   "source": [
    "data = np.random.randn(100)"
   ]
  },
  {
   "cell_type": "code",
   "execution_count": 34,
   "id": "63f9dee8-5ad1-487f-a120-ef513ccf2ae1",
   "metadata": {},
   "outputs": [],
   "source": [
    "mean_val = np.mean(data)"
   ]
  },
  {
   "cell_type": "code",
   "execution_count": 35,
   "id": "a04195ab-0984-48d7-bfea-c8612dc451e3",
   "metadata": {},
   "outputs": [],
   "source": [
    "std_dev = np.std(data)"
   ]
  },
  {
   "cell_type": "code",
   "execution_count": 36,
   "id": "c19c31e7-0d2f-4e39-bc38-4ab737422541",
   "metadata": {},
   "outputs": [
    {
     "name": "stdout",
     "output_type": "stream",
     "text": [
      "Mean: -0.010753348100735225\n",
      "Standard Deviation: 0.9384101340439829\n"
     ]
    }
   ],
   "source": [
    "print(\"Mean:\", mean_val)\n",
    "print(\"Standard Deviation:\", std_dev)"
   ]
  },
  {
   "cell_type": "markdown",
   "id": "2ab614d4-1efc-4fc9-a7e7-4b541efd3970",
   "metadata": {},
   "source": [
    "# 3. Introduction to Cost Functions (File 3"
   ]
  },
  {
   "cell_type": "markdown",
   "id": "f8ffe2dc-5df8-4c24-a1e8-4befcca90779",
   "metadata": {},
   "source": [
    "## practice question"
   ]
  },
  {
   "cell_type": "markdown",
   "id": "afe5e662-c2dd-4b6a-875b-cec9a8bc2b7e",
   "metadata": {},
   "source": [
    "###  Python mein ek simple Mean Squared Error (MSE) cost function implement karo"
   ]
  },
  {
   "cell_type": "code",
   "execution_count": 37,
   "id": "e4d9ceac-ec7d-4342-920f-2d4ced4f6e16",
   "metadata": {},
   "outputs": [],
   "source": [
    "import numpy as np"
   ]
  },
  {
   "cell_type": "code",
   "execution_count": 38,
   "id": "41bf9f46-9e42-462f-9765-75b16768acac",
   "metadata": {},
   "outputs": [],
   "source": [
    "## raw data\n",
    "actual = [1200, 1300, 1600]\n",
    "predicted = [1000, 1500, 1700]"
   ]
  },
  {
   "cell_type": "code",
   "execution_count": 39,
   "id": "3c113faf-e10f-4754-98e3-5336953ee4ff",
   "metadata": {},
   "outputs": [],
   "source": [
    "def mean_squared_error(y_true, y_pred):\n",
    "    y_true = np.array(y_true)\n",
    "    y_pred = np.array(y_pred)\n",
    "    mse = np.mean((y_true - y_pred) ** 2)\n",
    "    return mse"
   ]
  },
  {
   "cell_type": "code",
   "execution_count": 40,
   "id": "647e867b-0819-43d6-8f69-deb3a72979f0",
   "metadata": {},
   "outputs": [
    {
     "name": "stdout",
     "output_type": "stream",
     "text": [
      "MSE: 30000.0\n"
     ]
    }
   ],
   "source": [
    "mse_val = mean_squared_error(actual, predicted)\n",
    "print(\"MSE:\", mse_val)"
   ]
  },
  {
   "cell_type": "markdown",
   "id": "aaf42dda-69a6-4392-9e67-4092b1f085b1",
   "metadata": {},
   "source": [
    "- **Predictions**: [2.5, 0.0, 2.1, 7.8]  \n",
    "- **Targets (Actual Values)**: [3.0, -0.5, 2.0, 7.5]\n",
    "\n",
    "➡️ **Calculate the Mean Squared Error (MSE)** between the predictions and actual values.\n"
   ]
  },
  {
   "cell_type": "code",
   "execution_count": 41,
   "id": "8adf8f2b-eb92-4b84-8451-616aee2cb632",
   "metadata": {},
   "outputs": [],
   "source": [
    "import numpy as np"
   ]
  },
  {
   "cell_type": "code",
   "execution_count": 42,
   "id": "abdb09dd-75ad-4ced-bcfc-e9a8bfe7bc33",
   "metadata": {},
   "outputs": [],
   "source": [
    "actual=[3.0,-0.5,2.0,7.5]\n",
    "predicted=[2.5,0.0,2.1,7.8]"
   ]
  },
  {
   "cell_type": "code",
   "execution_count": 43,
   "id": "e29e6a7f-984c-4bdd-8577-4346c8af12b3",
   "metadata": {},
   "outputs": [],
   "source": [
    "def mse(y_true,y_predict):\n",
    "    y_true=np.array(y_true)\n",
    "    y_predict=np.array(y_predict)\n",
    "    mse=np.mean((y_true-y_predict)**2)\n",
    "    return mse"
   ]
  },
  {
   "cell_type": "code",
   "execution_count": 44,
   "id": "54061173-d6b0-41f9-96c8-396fa1ae30da",
   "metadata": {},
   "outputs": [],
   "source": [
    "mse_val=mse(actual,predicted)"
   ]
  },
  {
   "cell_type": "code",
   "execution_count": 45,
   "id": "14c1086e-de9d-4ed9-9cc4-bfc8cb741b2d",
   "metadata": {},
   "outputs": [
    {
     "name": "stdout",
     "output_type": "stream",
     "text": [
      "0.14999999999999997\n"
     ]
    }
   ],
   "source": [
    "print(mse_val)"
   ]
  },
  {
   "cell_type": "markdown",
   "id": "7f13f03c-115c-4dbd-96f3-021e4e9f78ed",
   "metadata": {},
   "source": [
    "# 4. Gradient Descent & Loops (File 6)"
   ]
  },
  {
   "cell_type": "markdown",
   "id": "a295586a-4c0f-465a-835f-3b129e79781d",
   "metadata": {},
   "source": [
    "## practice question"
   ]
  },
  {
   "cell_type": "markdown",
   "id": "abae02e8-01c5-4841-8249-6aa77a27fcdd",
   "metadata": {},
   "source": [
    "### Ek simple linear regression problem ka gradient descent algorithm implement karo."
   ]
  },
  {
   "cell_type": "code",
   "execution_count": 46,
   "id": "e4b0a55e-018d-431d-b98a-7d9733f5234c",
   "metadata": {},
   "outputs": [],
   "source": [
    "import numpy as np\n",
    "import matplotlib.pyplot as plt"
   ]
  },
  {
   "cell_type": "code",
   "execution_count": 47,
   "id": "205e8657-7613-4ade-adac-67127d62bc45",
   "metadata": {},
   "outputs": [],
   "source": [
    "X = np.array([1, 2, 3, 4, 5])\n",
    "y = np.array([1.5, 3.5, 4.0, 5.0, 6.5])"
   ]
  },
  {
   "cell_type": "code",
   "execution_count": 48,
   "id": "b9ef09b0-99f4-4f1a-9c54-bdf731b245f5",
   "metadata": {},
   "outputs": [],
   "source": [
    "w = 0.0\n",
    "b = 0.0"
   ]
  },
  {
   "cell_type": "code",
   "execution_count": 49,
   "id": "4b3ce502-816b-4d99-858e-98f1bd645f9b",
   "metadata": {},
   "outputs": [],
   "source": [
    "learning_rate = 0.01\n",
    "epochs = 100"
   ]
  },
  {
   "cell_type": "code",
   "execution_count": 50,
   "id": "d431c568-0b4c-478d-a41d-7a6b108609e0",
   "metadata": {},
   "outputs": [],
   "source": [
    "loss_history = []"
   ]
  },
  {
   "cell_type": "code",
   "execution_count": 51,
   "id": "b39ba7ca-b077-4702-b5f0-59cc3c5e8b8f",
   "metadata": {},
   "outputs": [],
   "source": [
    "for epoch in range(epochs):\n",
    "    y_pred = w * X + b            \n",
    "    error = y_pred - y            \n",
    "    loss = np.mean(error ** 2)     \n",
    "    loss_history.append(loss)"
   ]
  },
  {
   "cell_type": "code",
   "execution_count": 52,
   "id": "642714cd-e8be-4e07-9611-124d23a4babb",
   "metadata": {},
   "outputs": [],
   "source": [
    "    dw = (2/len(X)) * np.dot(error, X)\n",
    "    db = (2/len(X)) * np.sum(error)"
   ]
  },
  {
   "cell_type": "code",
   "execution_count": 53,
   "id": "4f879425-cc60-4e30-afb4-46e84c28c790",
   "metadata": {},
   "outputs": [],
   "source": [
    " w -= learning_rate * dw\n",
    "b -= learning_rate * db"
   ]
  },
  {
   "cell_type": "code",
   "execution_count": 54,
   "id": "83a3f854-d881-4a87-89b4-a21a8f1655d1",
   "metadata": {},
   "outputs": [
    {
     "name": "stdout",
     "output_type": "stream",
     "text": [
      "\n",
      "Final Model:\n",
      "w = 0.29, b = 0.08\n"
     ]
    }
   ],
   "source": [
    "print(\"\\nFinal Model:\")\n",
    "print(f\"w = {w:.2f}, b = {b:.2f}\")"
   ]
  },
  {
   "cell_type": "code",
   "execution_count": 55,
   "id": "cb1b8758-d033-4150-bd86-58313596a35c",
   "metadata": {},
   "outputs": [
    {
     "data": {
      "image/png": "[encoded data removed]",
      "text/plain": [
       "<Figure size 800x400 with 2 Axes>"
      ]
     },
     "metadata": {},
     "output_type": "display_data"
    }
   ],
   "source": [
    "plt.figure(figsize=(8, 4))\n",
    "plt.subplot(1, 2, 1)\n",
    "plt.plot(X, y, 'bo', label='Actual')\n",
    "plt.plot(X, w * X + b, 'r-', label='Predicted')\n",
    "plt.xlabel(\"Hours Studied\")\n",
    "plt.ylabel(\"Exam Score\")\n",
    "plt.title(\"Linear Regression Fit\")\n",
    "plt.legend()\n",
    "\n",
    "plt.subplot(1, 2, 2)\n",
    "plt.plot(loss_history)\n",
    "plt.xlabel(\"Epoch\")\n",
    "plt.ylabel(\"Loss (MSE)\")\n",
    "plt.title(\"Loss over Time\")\n",
    "plt.tight_layout()\n",
    "plt.show()"
   ]
  },
  {
   "cell_type": "markdown",
   "id": "9cdaed77-25f3-4a6c-8fac-66896344f3b8",
   "metadata": {},
   "source": [
    "#  5. Learning Rate (File 10)"
   ]
  },
  {
   "cell_type": "markdown",
   "id": "82184409-da4b-4fdb-b78a-0bc616ce8d62",
   "metadata": {},
   "source": [
    "## practice questions"
   ]
  },
  {
   "cell_type": "markdown",
   "id": "015b9852-7b09-4c66-83aa-94b0b88adcc2",
   "metadata": {},
   "source": [
    " ### Gradient descent implementation mein learning rate ko vary karo (e.g., 0.01, 0.1, 0.5)."
   ]
  },
  {
   "cell_type": "code",
   "execution_count": 56,
   "id": "120ee0b9-f9b8-4194-8fcd-dacd974db88b",
   "metadata": {},
   "outputs": [],
   "source": [
    "import numpy as np\n",
    "import matplotlib.pyplot as plt"
   ]
  },
  {
   "cell_type": "code",
   "execution_count": 57,
   "id": "e4f9acb9-8aa8-4d18-b11c-6bb83b6e644c",
   "metadata": {},
   "outputs": [],
   "source": [
    "np.random.seed(42)\n",
    "X = np.linspace(0, 10, 50)\n",
    "y = 2 * X + 1 + np.random.randn(50)"
   ]
  },
  {
   "cell_type": "code",
   "execution_count": 58,
   "id": "91006da8-ab3b-4c2a-9079-253a1421892b",
   "metadata": {},
   "outputs": [],
   "source": [
    "def run_gradient_descent(X, y, learning_rate, epochs=100):\n",
    "    w = 0.0  \n",
    "    b = 0.0  \n",
    "    loss_history = []\n",
    "\n",
    "    for _ in range(epochs):\n",
    "        y_pred = w * X + b\n",
    "        error = y_pred - y\n",
    "        loss = np.mean(error**2)\n",
    "        loss_history.append(loss)\n",
    "\n",
    "        dw = (2 / len(X)) * np.dot(error, X)\n",
    "        db = (2 / len(X)) * np.sum(error)\n",
    "\n",
    "        w -= learning_rate * dw \n",
    "        b -= learning_rate * db\n",
    "\n",
    "    return loss_history, w, b\n"
   ]
  },
  {
   "cell_type": "code",
   "execution_count": 60,
   "id": "f4f8d7d6-9f0e-4da4-99bb-491a48432c72",
   "metadata": {},
   "outputs": [
    {
     "name": "stdout",
     "output_type": "stream",
     "text": [
      "Final Weight (w): -191573164318558988206662860562394858345400432495439691194362750618813230743552.00\n",
      "Final Bias   (b): -28660176159232380263878472090458134009883047103313254697863952269018163838976.00\n",
      "Final Loss      : 37301185955387068738663901493962944446508502374084221973949679104139854594922025387989963089225899438176113241946537936351230658438539955119790595917217792.0000\n"
     ]
    }
   ],
   "source": [
    "losses, w_final, b_final = run_gradient_descent(X, y, learning_rate=0.1, epochs=100)\n",
    "\n",
    "print(f\"Final Weight (w): {w_final:.2f}\")\n",
    "print(f\"Final Bias   (b): {b_final:.2f}\")\n",
    "print(f\"Final Loss      : {losses[-1]:.4f}\")\n"
   ]
  },
  {
   "cell_type": "code",
   "execution_count": 63,
   "id": "8337f05a-63f1-4abf-b6ce-e0affd57a7fd",
   "metadata": {},
   "outputs": [
    {
     "data": {
      "image/png": "[encoded data removed]",
      "text/plain": [
       "<Figure size 640x480 with 1 Axes>"
      ]
     },
     "metadata": {},
     "output_type": "display_data"
    },
    {
     "data": {
      "image/png": "[encoded data removed]",
      "text/plain": [
       "<Figure size 640x480 with 1 Axes>"
      ]
     },
     "metadata": {},
     "output_type": "display_data"
    }
   ],
   "source": [
    "plt.plot(losses)\n",
    "plt.title(\"Loss Curve (Convergence Check)\")\n",
    "plt.xlabel(\"Epochs\")\n",
    "plt.ylabel(\"Mean Squared Error\")\n",
    "plt.grid(True)\n",
    "plt.show()\n",
    "\n",
    "\n",
    "# Show actual vs predicted\n",
    "plt.scatter(X, y, color='blue', label='Actual Data')\n",
    "plt.plot(X, w_final * X + b_final, color='red', label='Model Prediction')\n",
    "plt.title(\"Linear Regression Fit\")\n",
    "plt.xlabel(\"X\")\n",
    "plt.ylabel(\"y\")\n",
    "plt.legend()\n",
    "plt.grid(True)\n",
    "plt.show()\n"
   ]
  },
  {
   "cell_type": "code",
   "execution_count": null,
   "id": "937476a3-e1ee-4701-8040-31ae11f89297",
   "metadata": {},
   "outputs": [],
   "source": []
  }
 ],
 "metadata": {
  "kernelspec": {
   "display_name": "Python [conda env:base] *",
   "language": "python",
   "name": "conda-base-py"
  },
  "language_info": {
   "codemirror_mode": {
    "name": "ipython",
    "version": 3
   },
   "file_extension": ".py",
   "mimetype": "text/x-python",
   "name": "python",
   "nbconvert_exporter": "python",
   "pygments_lexer": "ipython3",
   "version": "3.13.5"
  }
 },
 "nbformat": 4,
 "nbformat_minor": 5
}
