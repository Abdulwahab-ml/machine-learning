{
  "nbformat": 4,
  "nbformat_minor": 0,
  "metadata": {
    "colab": {
      "provenance": []
    },
    "kernelspec": {
      "name": "python3",
      "display_name": "Python 3"
    },
    "language_info": {
      "name": "python"
    }
  },
  "cells": [
    {
      "cell_type": "markdown",
      "source": [
        "# part 1: Introduction to Cost Functions\n",
        "## Implement a simple Mian Sacharide Error (MAS) cost function in the back.\n",
        "### Suppose:\n",
        "### Predictions = [2.5, 0.0, 2.1, 7.8]\n",
        "### Targets = [3.0, -0.5, 2.0, 7.5]"
      ],
      "metadata": {
        "id": "18_nRX6jucXL"
      }
    },
    {
      "cell_type": "code",
      "execution_count": 1,
      "metadata": {
        "id": "T_WWFVOVuNvw"
      },
      "outputs": [],
      "source": [
        "import numpy as np"
      ]
    },
    {
      "cell_type": "code",
      "source": [
        "predictions = np.array([2.5, 0.0, 2.1, 7.8])\n",
        "targets = np.array([3.0, -0.5, 2.0, 7.5])"
      ],
      "metadata": {
        "id": "f9WDpIffwYKd"
      },
      "execution_count": 2,
      "outputs": []
    },
    {
      "cell_type": "code",
      "source": [
        "mse = np.mean((predictions - targets) ** 2)"
      ],
      "metadata": {
        "id": "0l7_DoIKwaNS"
      },
      "execution_count": 3,
      "outputs": []
    },
    {
      "cell_type": "code",
      "source": [
        "print(\"Mean Squared Error:\", mse)"
      ],
      "metadata": {
        "colab": {
          "base_uri": "https://localhost:8080/"
        },
        "id": "GswbRWwnwfmY",
        "outputId": "1ab969d2-a512-4ccb-f7f2-3427a4518199"
      },
      "execution_count": 4,
      "outputs": [
        {
          "output_type": "stream",
          "name": "stdout",
          "text": [
            "Mean Squared Error: 0.14999999999999997\n"
          ]
        }
      ]
    },
    {
      "cell_type": "code",
      "source": [],
      "metadata": {
        "id": "OV4G82yWwh_X"
      },
      "execution_count": null,
      "outputs": []
    }
  ]
}