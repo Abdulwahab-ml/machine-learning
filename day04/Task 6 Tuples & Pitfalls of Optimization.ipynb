{
  "nbformat": 4,
  "nbformat_minor": 0,
  "metadata": {
    "colab": {
      "provenance": []
    },
    "kernelspec": {
      "name": "python3",
      "display_name": "Python 3"
    },
    "language_info": {
      "name": "python"
    }
  },
  "cells": [
    {
      "cell_type": "markdown",
      "source": [
        "# Tuples & Pitfalls of Optimization"
      ],
      "metadata": {
        "id": "e-4XVMMqdBpo"
      }
    },
    {
      "cell_type": "code",
      "execution_count": 5,
      "metadata": {
        "id": "zwsHdUKYc7e9"
      },
      "outputs": [],
      "source": [
        "import numpy as np"
      ]
    },
    {
      "cell_type": "code",
      "source": [
        "def mse(y_true, y_pred):\n",
        "    return np.mean((y_true - y_pred) ** 2)\n"
      ],
      "metadata": {
        "id": "2DMgwqzsdNOF"
      },
      "execution_count": 6,
      "outputs": []
    },
    {
      "cell_type": "code",
      "source": [
        "def train_model(x, y, learning_rate, epochs):\n",
        "    w = 0\n",
        "    b = 0\n",
        "    n = len(x)\n",
        "\n",
        "    for _ in range(epochs):\n",
        "        y_pred = w * x + b\n",
        "        dw = (-2 / n) * np.sum(x * (y - y_pred))\n",
        "        db = (-2 / n) * np.sum(y - y_pred)\n",
        "        w -= learning_rate * dw\n",
        "        b -= learning_rate * db\n",
        "\n",
        "    y_final = w * x + b\n",
        "    cost = mse(y, y_final)\n",
        "    return cost, w, b"
      ],
      "metadata": {
        "id": "OXPuJUrzdjeG"
      },
      "execution_count": 7,
      "outputs": []
    },
    {
      "cell_type": "code",
      "source": [
        "x = np.array([1, 2, 3, 4])\n",
        "y = np.array([3, 5, 7, 9])\n",
        "\n",
        "hyperparams = [\n",
        "    (0.001, 500),\n",
        "    (0.01, 300),\n",
        "    (0.1, 100),\n",
        "    (0.05, 200),\n",
        "    (0.2, 80)\n",
        "]\n",
        "\n",
        "results = []"
      ],
      "metadata": {
        "id": "220RXTW8erHt"
      },
      "execution_count": 8,
      "outputs": []
    },
    {
      "cell_type": "code",
      "source": [
        "for lr, ep in hyperparams:\n",
        "    cost, w, b = train_model(x, y, lr, ep)\n",
        "    results.append((cost, lr, ep, w, b))\n",
        "best_result = min(results, key=lambda x: x[0])\n",
        "\n",
        "print(\"Best Cost:\", best_result[0])\n",
        "print(\"Learning Rate:\", best_result[1])\n",
        "print(\"Epochs:\", best_result[2])\n",
        "print(\"Final Weights: w =\", best_result[3], \"b =\", best_result[4])\n"
      ],
      "metadata": {
        "colab": {
          "base_uri": "https://localhost:8080/"
        },
        "id": "i8WXBMYBfQJ4",
        "outputId": "155ee8cc-8ec3-41d9-d707-7e7bfa0e2861"
      },
      "execution_count": 9,
      "outputs": [
        {
          "output_type": "stream",
          "name": "stdout",
          "text": [
            "Best Cost: 3.1413124765933945e-05\n",
            "Learning Rate: 0.1\n",
            "Epochs: 100\n",
            "Final Weights: w = 2.0046646169835465 b = 0.9862854572337916\n"
          ]
        }
      ]
    }
  ]
}