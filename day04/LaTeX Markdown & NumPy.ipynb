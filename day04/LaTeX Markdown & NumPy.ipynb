{
  "nbformat": 4,
  "nbformat_minor": 0,
  "metadata": {
    "colab": {
      "provenance": []
    },
    "kernelspec": {
      "name": "python3",
      "display_name": "Python 3"
    },
    "language_info": {
      "name": "python"
    }
  },
  "cells": [
    {
      "cell_type": "markdown",
      "source": [
        "# Part 1:LaTeX Markdown & NumPy Practice\n",
        "\n",
        "### Create a cell in the Jupiter notebook where you will write the formula for the equation (LaTeX does it):\n",
        "\n",
        "### $$\\frac{d}{dx}(x^n) = nx^{n-1}$$"
      ],
      "metadata": {
        "id": "tg9gv5S6nMm7"
      }
    },
    {
      "cell_type": "markdown",
      "source": [
        "### 🧮 Power Rule for Derivatives (Using LaTeX)\n",
        "\n",
        "The derivative of a power function is given by:\n",
        "\n",
        "$$\\frac{d}{dx}(x^n) = nx^{n-1}$$\n",
        "\n",
        "Where:\n",
        "- \\( x \\) is the variable\n",
        "- \\( n \\) is the power/exponent\n",
        "- $ \\frac{d}{dx}$ denotes the derivative with respect to \\( x \\)\n"
      ],
      "metadata": {
        "id": "xGsD1EJ1n-x2"
      }
    },
    {
      "cell_type": "markdown",
      "source": [
        "#  Part 2: NumPy Code: Normal Distribution, Mean, Std Dev\n",
        "### By doing this, generate 100 random numbers from a normal distribution, and calculate their mean and standard deviations."
      ],
      "metadata": {
        "id": "wWVSh5YPn-wr"
      }
    },
    {
      "cell_type": "code",
      "execution_count": 1,
      "metadata": {
        "id": "ycQuuSP1m96J"
      },
      "outputs": [],
      "source": [
        "import numpy as np"
      ]
    },
    {
      "cell_type": "code",
      "source": [
        "data=np.linspace(start=10,stop=1000,num=100)"
      ],
      "metadata": {
        "id": "9tenYGRkpYU0"
      },
      "execution_count": 3,
      "outputs": []
    },
    {
      "cell_type": "code",
      "source": [
        "mean=np.mean(data)"
      ],
      "metadata": {
        "id": "zn6rcY6ApfLb"
      },
      "execution_count": 4,
      "outputs": []
    },
    {
      "cell_type": "code",
      "source": [
        "std_dev = np.std(data)"
      ],
      "metadata": {
        "id": "s7EsXrcRpqjr"
      },
      "execution_count": 5,
      "outputs": []
    },
    {
      "cell_type": "code",
      "source": [
        "print(\"Mean:\", mean)\n",
        "print(\"Standard Deviation:\", std_dev)"
      ],
      "metadata": {
        "colab": {
          "base_uri": "https://localhost:8080/"
        },
        "id": "ojyBGjR_ptWk",
        "outputId": "e6531295-2598-46d9-e4a6-147bcb92e76c"
      },
      "execution_count": 6,
      "outputs": [
        {
          "output_type": "stream",
          "name": "stdout",
          "text": [
            "Mean: 505.0\n",
            "Standard Deviation: 288.66070047722116\n"
          ]
        }
      ]
    },
    {
      "cell_type": "code",
      "source": [],
      "metadata": {
        "id": "dLRUM4gPpvYC"
      },
      "execution_count": null,
      "outputs": []
    }
  ]
}