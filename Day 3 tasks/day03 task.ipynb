{
 "cells": [
  {
   "attachments": {},
   "cell_type": "markdown",
   "id": "c2024603-d85a-4827-950b-543b041a6797",
   "metadata": {},
   "source": [
    "# 🐍 Python Basics\n",
    "\n",
    "\n",
    "## Practice Tasks:"
   ]
  },
  {
   "cell_type": "markdown",
   "id": "180a2253-63db-40a9-a0d4-aeb046ef6319",
   "metadata": {},
   "source": [
    "### 1. Create a program that stores your name, age, and favorite programming language.\n"
   ]
  },
  {
   "cell_type": "code",
   "execution_count": 99,
   "id": "cd4257b7-51d8-4088-baf2-534dcf4faada",
   "metadata": {},
   "outputs": [
    {
     "name": "stdout",
     "output_type": "stream",
     "text": [
      "Name: Abdul Wahab\n",
      "Age: 20\n",
      "Favorite Language: Python\n"
     ]
    }
   ],
   "source": [
    "name = \"Abdul Wahab\"\n",
    "age = 20\n",
    "favorite_language = \"Python\"\n",
    "\n",
    "print(\"Name:\", name)\n",
    "print(\"Age:\", age)\n",
    "print(\"Favorite Language:\", favorite_language)"
   ]
  },
  {
   "cell_type": "markdown",
   "id": "7c8cd9ab-5255-4af3-b1dd-a8376a0d2001",
   "metadata": {},
   "source": [
    "### 2. Make a list of 5 numbers. Write code to:\n",
    "### Find the sum\n",
    "### Find the average\n",
    "### Sort the list\n"
   ]
  },
  {
   "cell_type": "code",
   "execution_count": 100,
   "id": "275a3a4c-a202-4601-90a9-a5d855935223",
   "metadata": {},
   "outputs": [
    {
     "name": "stdout",
     "output_type": "stream",
     "text": [
      "\n",
      "Sum of numbers: 102\n",
      "Average of numbers: 20.4\n",
      "Sorted numbers: [7, 10, 18, 25, 42]\n"
     ]
    }
   ],
   "source": [
    "numbers = [10, 25, 7, 42, 18]\n",
    "\n",
    "\n",
    "total = sum(numbers)\n",
    "print(\"\\nSum of numbers:\", total)\n",
    "\n",
    "average = total / len(numbers)\n",
    "print(\"Average of numbers:\", average)\n",
    "\n",
    "sorted_numbers = sorted(numbers)\n",
    "print(\"Sorted numbers:\", sorted_numbers)"
   ]
  },
  {
   "attachments": {},
   "cell_type": "markdown",
   "id": "1864951e-299f-4806-9296-f813aad15d71",
   "metadata": {},
   "source": [
    "# 🔧 Functions (Parts 1–3)\n",
    "\n",
    "\n",
    "## Practice Tasks:"
   ]
  },
  {
   "cell_type": "markdown",
   "id": "61ecc79e-7e21-47c8-ba1f-e40a76d5f3cd",
   "metadata": {},
   "source": [
    "### 1. Write a function that calculates the square of a number.\n"
   ]
  },
  {
   "cell_type": "code",
   "execution_count": 102,
   "id": "69ec59ab-e70c-442f-9134-9cfac2af0265",
   "metadata": {},
   "outputs": [
    {
     "name": "stdout",
     "output_type": "stream",
     "text": [
      "Square of 5: 25\n"
     ]
    }
   ],
   "source": [
    "def square(num):\n",
    "    return num ** 2\n",
    "\n",
    "print(\"Square of 5:\", square(5))"
   ]
  },
  {
   "cell_type": "markdown",
   "id": "99e548bf-6c19-4950-962e-935e6df3566f",
   "metadata": {},
   "source": [
    "### 2. Write a function that takes two numbers and returns their sum, product, and difference.\n"
   ]
  },
  {
   "cell_type": "code",
   "execution_count": null,
   "id": "162361db-c6b9-4c21-b8f6-bf4178d5ec27",
   "metadata": {},
   "outputs": [],
   "source": [
    "def math_operations(a, b):\n",
    "    summation = a + b\n",
    "    product = a * b\n",
    "    difference = a - b\n",
    "    return summation, product, difference\n",
    "\n",
    "s, p, d = math_operations(10, 3)\n",
    "print(\"\\nSum:\", s)\n",
    "print(\"Product:\", p)\n",
    "print(\"Difference:\", d)"
   ]
  },
  {
   "cell_type": "markdown",
   "id": "bbb7571a-7194-4c97-a6bf-68475432bd3d",
   "metadata": {},
   "source": [
    "### 3. Create a function that checks if a number is even or odd."
   ]
  },
  {
   "cell_type": "code",
   "execution_count": null,
   "id": "6d7cb11b-588c-4908-a21e-fbb56eddcc71",
   "metadata": {},
   "outputs": [],
   "source": [
    "def check_even_odd(num):\n",
    "    if num % 2 == 0:\n",
    "        return \"Even\"\n",
    "    else:\n",
    "        return \"Odd\"\n",
    "\n",
    "print(\"\\n7 is:\", check_even_odd(7))\n",
    "print(\"12 is:\", check_even_odd(12))\n"
   ]
  },
  {
   "attachments": {},
   "cell_type": "markdown",
   "id": "50afa769-368c-4874-930a-7edf4c8b4142",
   "metadata": {},
   "source": [
    "# 📦 Modules and Imports\n",
    "\n",
    "\n",
    "## Practice Tasks:"
   ]
  },
  {
   "cell_type": "markdown",
   "id": "fa4f47c4-e1c2-4256-8339-7cfd994ba766",
   "metadata": {},
   "source": [
    "### 1. Import the math module and use it to:\n",
    "### Find the square root of 64\n",
    "### Get the value of pi"
   ]
  },
  {
   "cell_type": "code",
   "execution_count": 103,
   "id": "ea7b23c0-9f42-48f1-ae81-291b88a5c709",
   "metadata": {},
   "outputs": [
    {
     "name": "stdout",
     "output_type": "stream",
     "text": [
      "Square root of 64: 8.0\n",
      "Value of pi: 3.141592653589793\n"
     ]
    }
   ],
   "source": [
    "import math\n",
    "\n",
    "sqrt_64 = math.sqrt(64)\n",
    "pi_value = math.pi\n",
    "\n",
    "print(\"Square root of 64:\", sqrt_64)\n",
    "print(\"Value of pi:\", pi_value)\n"
   ]
  },
  {
   "cell_type": "markdown",
   "id": "9d1cdb0f-1759-4ada-9b8b-7bdc7974ddda",
   "metadata": {},
   "source": [
    "### 2. Use random to generate a list of 5 random numbers between 1 and 100.\n"
   ]
  },
  {
   "cell_type": "code",
   "execution_count": 104,
   "id": "de099ed7-9c31-4a88-a873-6ef11a12eab8",
   "metadata": {},
   "outputs": [
    {
     "name": "stdout",
     "output_type": "stream",
     "text": [
      "Random numbers: [86, 71, 94, 42, 82]\n"
     ]
    }
   ],
   "source": [
    "import random\n",
    "\n",
    "random_numbers = []\n",
    "\n",
    "for i in range(5):\n",
    "    number = random.randint(1, 100)\n",
    "    random_numbers.append(number)\n",
    "\n",
    "print(\"Random numbers:\", random_numbers)"
   ]
  },
  {
   "attachments": {},
   "cell_type": "markdown",
   "id": "e762c9bc-6a2d-440b-9c75-bbebea38a540",
   "metadata": {},
   "source": [
    "# 🧱 Objects, Attributes & Methods\n",
    "\n",
    "\n",
    "## Practice Tasks:"
   ]
  },
  {
   "cell_type": "markdown",
   "id": "be38f7ba-bebf-49ff-9d51-572d80dba677",
   "metadata": {},
   "source": [
    "### 1. Create a simple class Car with attributes make, model, and year.\n"
   ]
  },
  {
   "cell_type": "code",
   "execution_count": 105,
   "id": "bfe82dad-3fa9-4b15-ac5e-8a1c63127e49",
   "metadata": {},
   "outputs": [],
   "source": [
    "class Car:\n",
    "    def __init__(self, make=\"Unknown\", model=\"Unknown\", year=0):\n",
    "        self.make = make\n",
    "        self.model = model\n",
    "        self.year = year\n"
   ]
  },
  {
   "cell_type": "markdown",
   "id": "41546fc8-7352-4d16-9f61-5000c865875d",
   "metadata": {},
   "source": [
    "### 2. Add a method that prints the car's full description.\n"
   ]
  },
  {
   "cell_type": "code",
   "execution_count": null,
   "id": "377ce8c3-cfda-4991-9316-13a6c08848ff",
   "metadata": {},
   "outputs": [],
   "source": [
    "def describe(self):\n",
    "        print(f\"{self.year} {self.make} {self.model}\")"
   ]
  },
  {
   "cell_type": "markdown",
   "id": "a1b1851f-943d-4172-837c-2ebf0416022b",
   "metadata": {},
   "source": [
    "### 3. Create 2 different car objects and call the method"
   ]
  },
  {
   "cell_type": "code",
   "execution_count": 108,
   "id": "e9570e02-6cf7-490e-a238-a9f0c3efe66e",
   "metadata": {},
   "outputs": [
    {
     "name": "stdout",
     "output_type": "stream",
     "text": [
      "BMW X5 2022\n"
     ]
    }
   ],
   "source": [
    "class Car:\n",
    "    def __init__(self, make=\"Unknown\", model=\"Unknown\", year=0):\n",
    "        self.make = make\n",
    "        self.model = model\n",
    "        self.year = year\n",
    "\n",
    "car1 = Car(\"BMW\", \"X5\", 2022)\n",
    "\n",
    "print(car1.make, car1.model, car1.year)\n"
   ]
  },
  {
   "attachments": {},
   "cell_type": "markdown",
   "id": "38c314c7-c67b-4c9b-8cd6-5229b60af95b",
   "metadata": {},
   "source": [
    "# 🎨 Data Visualisation + Docs\n",
    "\n",
    "\n",
    "## Practice Tasks:"
   ]
  },
  {
   "cell_type": "markdown",
   "id": "a994bbc8-4aad-4d46-9239-ca9ee3b24aea",
   "metadata": {},
   "source": [
    "### 1. Import matplotlib.pyplot and plot:\n",
    "### A line graph showing temperature over 7 days\n",
    "### A bar chart showing your weekly expenses\n"
   ]
  },
  {
   "cell_type": "code",
   "execution_count": 109,
   "id": "d4c031a2-1d17-4a4b-ba08-715845bf264c",
   "metadata": {},
   "outputs": [
    {
     "data": {
      "image/png": "[encoded data removed]",
      "text/plain": [
       "<Figure size 640x480 with 1 Axes>"
      ]
     },
     "metadata": {},
     "output_type": "display_data"
    }
   ],
   "source": [
    "import matplotlib.pyplot as plt\n",
    "\n",
    "# Line Graph: Temperature over 7 days\n",
    "days = [\"Mon\", \"Tue\", \"Wed\", \"Thu\", \"Fri\", \"Sat\", \"Sun\"]\n",
    "temperature = [30, 32, 31, 29, 28, 27, 26]\n",
    "\n",
    "plt.plot(days, temperature, marker='o', color='blue', label='Temperature (°C)')\n",
    "plt.title(\"Weekly Temperature\")\n",
    "plt.xlabel(\"Days\")\n",
    "plt.ylabel(\"Temperature (°C)\")\n",
    "plt.grid(True)\n",
    "plt.legend()\n",
    "plt.show()\n"
   ]
  },
  {
   "cell_type": "markdown",
   "id": "f4083653-7700-4942-848e-2aedb3279045",
   "metadata": {},
   "source": [
    "### 2. Practice reading Python documentation for matplotlib.pyplot.plot()"
   ]
  },
  {
   "cell_type": "code",
   "execution_count": 110,
   "id": "42da2597-2484-48b9-87cb-fd1c9b1f1e40",
   "metadata": {},
   "outputs": [
    {
     "data": {
      "image/png": "[encoded data removed]",
      "text/plain": [
       "<Figure size 640x480 with 1 Axes>"
      ]
     },
     "metadata": {},
     "output_type": "display_data"
    }
   ],
   "source": [
    "# Bar Chart: Weekly Expenses\n",
    "categories = [\"Rent\", \"Groceries\", \"Transport\", \"Internet\", \"Other\"]\n",
    "expenses = [200, 75, 40, 25, 60]\n",
    "\n",
    "plt.bar(categories, expenses, color='green')\n",
    "plt.title(\"Weekly Expenses\")\n",
    "plt.xlabel(\"Expense Category\")\n",
    "plt.ylabel(\"Amount ($)\")\n",
    "plt.show()\n"
   ]
  },
  {
   "attachments": {},
   "cell_type": "markdown",
   "id": "141c2c85-9e9c-449f-b2a7-01d95254c9ac",
   "metadata": {
    "jp-MarkdownHeadingCollapsed": true
   },
   "source": [
    "# 🧼 Code Style & Naming\n",
    "\n",
    "\n",
    "## Practice Tasks:"
   ]
  },
  {
   "cell_type": "markdown",
   "id": "c037be8a-cab8-41c8-8756-5169eab5d08b",
   "metadata": {},
   "source": [
    "### 1. Review one of your old Python scripts and:\n",
    "### Rename variables using snake_case\n",
    "### Add comments where needed\n",
    "### Follow PEP 8 for indentation and spacing"
   ]
  },
  {
   "cell_type": "markdown",
   "id": "1f93f478-0585-46d4-aa4c-fc37b18abc49",
   "metadata": {},
   "source": [
    "#### ❌ Old Example (messy code)\n"
   ]
  },
  {
   "cell_type": "code",
   "execution_count": 97,
   "id": "ebb80c76-bffd-4bd9-805e-2d6a57e7d298",
   "metadata": {},
   "outputs": [
    {
     "name": "stdout",
     "output_type": "stream",
     "text": [
      "15\n"
     ]
    }
   ],
   "source": [
    "def calcTotal(x,y):\n",
    " z=x+y\n",
    " return z\n",
    "a=5\n",
    "b=10\n",
    "print(calcTotal(a,b))\n"
   ]
  },
  {
   "cell_type": "markdown",
   "id": "ffe082c6-f715-41ef-bd65-87466d1f7fc3",
   "metadata": {},
   "source": [
    "#### ✅ Cleaned Up Version (PEP 8 applied)"
   ]
  },
  {
   "cell_type": "code",
   "execution_count": 98,
   "id": "f6c485d7-8973-4495-93c5-74f3a3be23b2",
   "metadata": {},
   "outputs": [
    {
     "name": "stdout",
     "output_type": "stream",
     "text": [
      "15\n"
     ]
    }
   ],
   "source": [
    "# Function to calculate the total of two numbers\n",
    "def calc_total(num1, num2):\n",
    "    total = num1 + num2\n",
    "    return total\n",
    "\n",
    "# Input values\n",
    "first_number = 5\n",
    "second_number = 10\n",
    "\n",
    "# Print the result\n",
    "print(calc_total(first_number, second_number))\n"
   ]
  },
  {
   "cell_type": "code",
   "execution_count": null,
   "id": "ec02fcc9-4617-496a-b059-64f3194bebb3",
   "metadata": {},
   "outputs": [],
   "source": []
  }
 ],
 "metadata": {
  "kernelspec": {
   "display_name": "Python [conda env:base] *",
   "language": "python",
   "name": "conda-base-py"
  },
  "language_info": {
   "codemirror_mode": {
    "name": "ipython",
    "version": 3
   },
   "file_extension": ".py",
   "mimetype": "text/x-python",
   "name": "python",
   "nbconvert_exporter": "python",
   "pygments_lexer": "ipython3",
   "version": "3.13.5"
  }
 },
 "nbformat": 4,
 "nbformat_minor": 5
}
